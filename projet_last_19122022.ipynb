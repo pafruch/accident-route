{
 "cells": [
  {
   "cell_type": "code",
   "execution_count": null,
   "id": "787983b1",
   "metadata": {},
   "outputs": [],
   "source": [
    "import pandas as pd\n",
    "import matplotlib.pyplot as plt \n",
    "import seaborn as sns\n",
    "import numpy as np\n",
    "plt.style.use('fivethirtyeight')\n",
    "\n",
    "from datetime import datetime"
   ]
  },
  {
   "cell_type": "code",
   "execution_count": null,
   "id": "84c6fc3f-57fc-4b5d-bed5-d7ef7781d16d",
   "metadata": {},
   "outputs": [],
   "source": [
    "from sklearn import preprocessing\n",
    "from sklearn import svm\n",
    "import sklearn.metrics\n",
    "from sklearn.model_selection import train_test_split\n",
    "from sklearn.model_selection import cross_val_score\n",
    "from sklearn.metrics import confusion_matrix, ConfusionMatrixDisplay\n",
    "from sklearn.preprocessing import StandardScaler\n",
    "from imblearn.over_sampling import SMOTE,SMOTENC\n",
    "from sklearn.preprocessing import normalize\n",
    "from sklearn.ensemble import RandomForestClassifier\n",
    "from sklearn.ensemble import GradientBoostingClassifier\n",
    "from sklearn.model_selection import GridSearchCV,RandomizedSearchCV\n",
    "from sklearn.metrics import accuracy_score\n",
    "from sklearn.metrics import recall_score, f1_score\n",
    "import xgboost\n",
    "from xgboost import XGBClassifier\n",
    "from sklearn.model_selection import StratifiedKFold"
   ]
  },
  {
   "cell_type": "code",
   "execution_count": null,
   "id": "226ed18e",
   "metadata": {},
   "outputs": [],
   "source": [
    "#Affichage des 4 dataframes séparés "
   ]
  },
  {
   "cell_type": "code",
   "execution_count": null,
   "id": "794de22c",
   "metadata": {},
   "outputs": [],
   "source": [
    "lieux = pd.read_csv('https://www.data.gouv.fr/fr/datasets/r/8a4935aa-38cd-43af-bf10-0209d6d17434',sep= \";\")\n",
    "usagers = pd.read_csv('https://www.data.gouv.fr/fr/datasets/r/ba5a1956-7e82-41b7-a602-89d7dd484d7a',sep = ';')\n",
    "vehicules = pd.read_csv('https://www.data.gouv.fr/fr/datasets/r/0bb5953a-25d8-46f8-8c25-b5c2f5ba905e', sep= \";\")\n",
    "caracteristiques = pd.read_csv('https://www.data.gouv.fr/fr/datasets/r/85cfdc0c-23e4-4674-9bcd-79a970d7269b',sep = \";\")"
   ]
  },
  {
   "cell_type": "code",
   "execution_count": null,
   "id": "d696868d-708f-4d1e-8471-d6853e48f813",
   "metadata": {},
   "outputs": [],
   "source": [
    "lieux.isnull().sum()"
   ]
  },
  {
   "cell_type": "code",
   "execution_count": null,
   "id": "bae27edf-9b2b-47b3-93a9-20554f16de17",
   "metadata": {},
   "outputs": [],
   "source": [
    "caracteristiques.isnull().sum()"
   ]
  },
  {
   "cell_type": "code",
   "execution_count": null,
   "id": "912d6034-72b1-4651-8cb4-dc7b7ea1884c",
   "metadata": {},
   "outputs": [],
   "source": [
    "vehicules.isnull().sum()"
   ]
  },
  {
   "cell_type": "code",
   "execution_count": null,
   "id": "66a3559a-f93f-4adf-bf28-4b9b34f22e3a",
   "metadata": {},
   "outputs": [],
   "source": [
    "usagers.isnull().sum()"
   ]
  },
  {
   "cell_type": "code",
   "execution_count": null,
   "id": "7135af1e",
   "metadata": {},
   "outputs": [],
   "source": [
    "usagers[\"Num_Acc\"].value_counts()"
   ]
  },
  {
   "cell_type": "code",
   "execution_count": null,
   "id": "6559f9ed",
   "metadata": {},
   "outputs": [],
   "source": [
    "df1 = pd.merge(lieux,caracteristiques)\n",
    "df1"
   ]
  },
  {
   "cell_type": "code",
   "execution_count": null,
   "id": "fdf4c199",
   "metadata": {},
   "outputs": [],
   "source": [
    "df2 = pd.merge(usagers,vehicules, how = 'left')\n",
    "df2"
   ]
  },
  {
   "cell_type": "code",
   "execution_count": null,
   "id": "775aeff3",
   "metadata": {},
   "outputs": [],
   "source": [
    "df = pd.merge(df2,df1,how = 'left')\n",
    "df"
   ]
  },
  {
   "cell_type": "code",
   "execution_count": null,
   "id": "4bb92c6a",
   "metadata": {},
   "outputs": [],
   "source": [
    "missing_values = df.isnull().sum().sort_values(ascending=False)\n",
    "missing_percentages = df.isna().sum().sort_values(ascending=False)/len(df)\n",
    "#missing_percentages, missing_values"
   ]
  },
  {
   "cell_type": "code",
   "execution_count": null,
   "id": "672f72cd-33dc-4f59-b0d2-992a0f4f1660",
   "metadata": {},
   "outputs": [],
   "source": [
    "df.dtypes"
   ]
  },
  {
   "cell_type": "markdown",
   "id": "e3fbf56a-93ce-4608-8165-5f30a197ff81",
   "metadata": {},
   "source": [
    "On sait que les colonnes lartpc, occutc, v2 correspondsant respectivement à la largeur du terre-plein central (TPC) s'il existe (en m, au nombre d’occupants dans le transport en commun) et à la lettre indice alphanumérique de la route comportent plus de 90% de valeurs manquantes NaN donc on peut retirer ses colonnes immédiatement du dataset.  "
   ]
  },
  {
   "cell_type": "code",
   "execution_count": null,
   "id": "b5cf32fa-1caa-4fc0-8cec-d0e5f10dcc9a",
   "metadata": {},
   "outputs": [],
   "source": [
    "df2 = df.copy()"
   ]
  },
  {
   "cell_type": "code",
   "execution_count": null,
   "id": "d0069132-87bf-4e1b-849a-b478884eb682",
   "metadata": {},
   "outputs": [],
   "source": [
    "df.drop(['lartpc','occutc','v2'],axis = 1,inplace = True)"
   ]
  },
  {
   "cell_type": "markdown",
   "id": "96ddfc15-8c8a-461a-9abc-8f756379a7ed",
   "metadata": {},
   "source": [
    "On enlève aussi les colonnes Num_Acc, id_vehicule et Num_Veh qui sont des clés que nous avons utilisé pour merge nos DataFrame."
   ]
  },
  {
   "cell_type": "code",
   "execution_count": null,
   "id": "9763c672-aff5-4525-a440-2364eb66d634",
   "metadata": {},
   "outputs": [],
   "source": [
    "df.drop(['Num_Acc','id_vehicule','num_veh'],axis = 1,inplace = True)"
   ]
  },
  {
   "cell_type": "markdown",
   "id": "37255c98-0439-461c-92cb-5846b05d3fa6",
   "metadata": {},
   "source": [
    "On peut aussi enlever les colonnes pr, pr1, voie, v1 et senc correspondant respectivement au numéro du PR de rattachement (numéro de la borne amont), à la distance en mètres au PR, au numéro de la route, à l'indice numérique du numéro de route et au sens de circulation car ils ne sont pas utiles pour prédire la gravité d'un accident. "
   ]
  },
  {
   "cell_type": "code",
   "execution_count": null,
   "id": "488809c2-15bf-4c19-bd1a-9a998d6edf94",
   "metadata": {},
   "outputs": [],
   "source": [
    "df.drop(['pr','pr1','voie','v1','senc'],axis = 1,inplace = True)"
   ]
  },
  {
   "cell_type": "code",
   "execution_count": null,
   "id": "9f8b31b5-b9d1-426c-9fdb-2ab064852204",
   "metadata": {},
   "outputs": [],
   "source": [
    "df.columns"
   ]
  },
  {
   "cell_type": "code",
   "execution_count": null,
   "id": "4c05086c-9803-4ca2-b27e-8482b29bf236",
   "metadata": {},
   "outputs": [],
   "source": [
    "# EXPLIQUER LE BUT DE CETTE CELLULE\n",
    "import re \n",
    "\n",
    "def cleanData(data):\n",
    "    data = re.sub(',','.',data) \n",
    "    return data\n",
    "\n",
    "df['lat2']=df['lat'].apply(cleanData)\n",
    "df['long2']=df['long'].apply(cleanData)\n",
    "\n",
    "df[\"lat2\"] = pd.to_numeric(df[\"lat2\"])\n",
    "df[\"long2\"] = pd.to_numeric(df[\"long2\"])\n",
    "\n",
    "df.drop(['lat','long'],axis = 1,inplace = True)"
   ]
  },
  {
   "cell_type": "code",
   "execution_count": null,
   "id": "a01b32e9-d695-4fcf-80ea-d65cb72f37c6",
   "metadata": {},
   "outputs": [],
   "source": [
    "# La colonne actp contenait des nombres convertis en string donc on la repasse en float\n",
    "\n",
    "def cleanData2(data):\n",
    "    data = re.sub(',','.',data) \n",
    "    data = re.sub('B','-1',data)\n",
    "    data = re.sub('A','9',data)\n",
    "    return data\n",
    "\n",
    "df['larrout']=df['larrout'].apply(cleanData2)\n",
    "df['larrout'] = pd.to_numeric(df['larrout'])\n",
    "\n",
    "df['actp']=df['actp'].apply(cleanData2)\n",
    "df['actp'] = pd.to_numeric(df['actp'])"
   ]
  },
  {
   "cell_type": "code",
   "execution_count": null,
   "id": "02b1f614-dd8e-448d-b694-8185b5aa2a48",
   "metadata": {},
   "outputs": [],
   "source": [
    "def time(data):\n",
    "    return datetime.strptime(data, \"%H:%M\").time()\n",
    "\n",
    "df['hrmn']=df['hrmn'].apply(time)"
   ]
  },
  {
   "cell_type": "code",
   "execution_count": null,
   "id": "7cecaead-9044-4244-a244-b7b5d9dd91bb",
   "metadata": {},
   "outputs": [],
   "source": [
    "# Calculer le nombre de -1 dans chaque colonne car ces valeurs signifient : informations non renseignées\n",
    "\n",
    "def renseignement():\n",
    "    L = []\n",
    "    for col in list(df):\n",
    "        L.append(len(df[df[col]==-1])/df.shape[0])\n",
    "    return L\n",
    "\n",
    "liste = renseignement()\n",
    "\n",
    "# Indices des colonnes contenant plus de 20% de valeur -1 correspondant à des valeurs non renseignées \n",
    "\n",
    "def indices(liste):\n",
    "    indices = []\n",
    "    longueur = len(liste)\n",
    "    for i in range(longueur):\n",
    "        taux = liste[i]\n",
    "        if taux > 0.2:\n",
    "            indices.append(i)\n",
    "    return indices\n",
    "            \n",
    "indices = indices(liste) \n",
    "df.columns[indices]"
   ]
  },
  {
   "cell_type": "code",
   "execution_count": null,
   "id": "8e66719f-7de3-401d-9bcd-6c66a54af330",
   "metadata": {},
   "outputs": [],
   "source": [
    "# On retire donc ces 6 colonnes de notre dataset\n",
    "df.drop(df.columns[indices], axis = 1, inplace = True)"
   ]
  },
  {
   "cell_type": "markdown",
   "id": "a7ef15a5-ba7e-4073-ba95-3db2ffac620a",
   "metadata": {
    "tags": []
   },
   "source": [
    "Ces indices correspondent aux colonnes secu2, secu3, locp, actp et etatp et larrout correspondant respectivement aux renseignements du caractère indiquant la présence et l’utilisation de l’équipement de sécurité pour secu2 et 3, à la localisation du piéton pour locp, à une variable permettant de préciser si le piéton accidenté était seul ou non pour etatp et à la largeur de la chaussée affectée à la circulation des véhicules pour larrout. \n",
    "On peut donc supprimer ces colonnes de notre dataset. "
   ]
  },
  {
   "cell_type": "code",
   "execution_count": null,
   "id": "0fb8dd78-4267-42cd-908e-634fe07d9c4f",
   "metadata": {},
   "outputs": [],
   "source": [
    "indemne = len(df[df.grav == 1])\n",
    "bléssé_léger = len(df[df.grav == 4])\n",
    "bléssé_hospi = len(df[df.grav == 3])\n",
    "tué = len(df[df.grav == 2])\n",
    "\n",
    "indexNames = df[df['grav'] == -1 ].index\n",
    "df.drop(indexNames ,inplace=True)\n",
    "\n",
    "gravité = [indemne, bléssé_léger, bléssé_hospi, tué]"
   ]
  },
  {
   "cell_type": "markdown",
   "id": "5e553e83-6ba7-440b-9111-18f0e3318215",
   "metadata": {
    "tags": []
   },
   "source": [
    "# Data visualisation et statistiques descriptives "
   ]
  },
  {
   "cell_type": "code",
   "execution_count": null,
   "id": "9d2b0e41-1221-4b51-bdd1-d7963dfa7048",
   "metadata": {},
   "outputs": [],
   "source": [
    "df.info()"
   ]
  },
  {
   "cell_type": "markdown",
   "id": "56ce54b7-a4b4-49ff-ad0e-14b18b734a59",
   "metadata": {},
   "source": [
    "Seule la colonne an_nais possède des valeurs manquantes (3007). Nous nous en occuperons plus tard lors de la modélisation."
   ]
  },
  {
   "cell_type": "code",
   "execution_count": null,
   "id": "b6f32179-941b-43de-b78c-ddf13d979db6",
   "metadata": {},
   "outputs": [],
   "source": [
    "df.describe()"
   ]
  },
  {
   "cell_type": "markdown",
   "id": "4d880f94-f650-4378-bf97-c9453e98698c",
   "metadata": {},
   "source": [
    "On peut voir qu'une personne agée de 109 ans et un bébé de moins d'un an ont été impliqués dans des accidents en 2021."
   ]
  },
  {
   "cell_type": "code",
   "execution_count": null,
   "id": "a9327401-d619-4d49-9718-01057e4fb8c0",
   "metadata": {},
   "outputs": [],
   "source": [
    "df.loc[df['an_nais'] == 1912]"
   ]
  },
  {
   "cell_type": "markdown",
   "id": "a418aa51-2434-4a88-b1ad-4050e1745d00",
   "metadata": {},
   "source": [
    "Cette personne de 109 ans a donc été hospitalisée. Elle était sur le siège passager lors de l'accident, sur une route limitée à 50 km/h, en pleine nuit avec éclairage public allumé.  "
   ]
  },
  {
   "cell_type": "markdown",
   "id": "832caa61-65d1-448f-81d9-76efb479f248",
   "metadata": {},
   "source": [
    "Nous remarquons aussi que la vitesse maximale est de 901 km/h. Nous pensons à une erreur de frappe, nous corrigeons donc cela en 90 km/h. Plus généralement, nous regardons la distribution des valeurs de vitesse. Nous changeons 300 en 30, de 500 à 520 en 50 et 700 et 770 en 70."
   ]
  },
  {
   "cell_type": "code",
   "execution_count": null,
   "id": "ca93c428-075d-451f-8faa-141e1393c989",
   "metadata": {},
   "outputs": [],
   "source": [
    "np.unique(df['vma'], return_counts = True)"
   ]
  },
  {
   "cell_type": "code",
   "execution_count": null,
   "id": "810a7660-905f-4ba2-8829-f4e797fb0e11",
   "metadata": {},
   "outputs": [],
   "source": [
    "abus = [300,500,501,502,520,700,770,900,901]"
   ]
  },
  {
   "cell_type": "code",
   "execution_count": null,
   "id": "70395ca8-6677-4838-94a0-1d4fdc75aea5",
   "metadata": {},
   "outputs": [],
   "source": [
    "for i in range(len(abus)):\n",
    "    e = abus[i]\n",
    "    chiffre = e//100\n",
    "    new_vma = float(str(chiffre)+str(0))\n",
    "    req_Index = list(np.where(df[\"vma\"] == e))\n",
    "    for j in req_Index[0]:\n",
    "        df.iloc[j,10] = new_vma"
   ]
  },
  {
   "cell_type": "code",
   "execution_count": null,
   "id": "6eb54e35-250f-45be-9094-fefa96eb616c",
   "metadata": {},
   "outputs": [],
   "source": [
    "np.unique(df['vma'], return_counts = True)"
   ]
  },
  {
   "cell_type": "code",
   "execution_count": null,
   "id": "a20a4ad4-9459-44b1-9fa9-d2fc8cea75bb",
   "metadata": {},
   "outputs": [],
   "source": [
    "def cat(annee):\n",
    "    if annee >= 1996:\n",
    "        return \"moins de 25 ans\"\n",
    "    elif annee > 1961:\n",
    "        return \"entre 25 et 60 ans\"\n",
    "    else :\n",
    "        return \"plus de 60 ans\""
   ]
  },
  {
   "cell_type": "code",
   "execution_count": null,
   "id": "ac30635b-b5da-4eb9-8d93-b5b71f5c198f",
   "metadata": {},
   "outputs": [],
   "source": [
    "df3 = df.copy()\n",
    "df3['category_age'] = df['an_nais'].apply(cat)"
   ]
  },
  {
   "cell_type": "code",
   "execution_count": null,
   "id": "47f2b3b8-792f-4fae-8780-63d78f954439",
   "metadata": {},
   "outputs": [],
   "source": [
    "sns.countplot(y='grav',data=df3, hue ='category_age').set(title=\"distribution de la gravité en fonction de l'âge\")"
   ]
  },
  {
   "cell_type": "markdown",
   "id": "f18b4144-1256-49e5-bd61-dfb3ac98004b",
   "metadata": {},
   "source": [
    "La catégorie avec le plus de conducteurs actifs est donc la plus représentée dans chacune des classes de gravité."
   ]
  },
  {
   "cell_type": "markdown",
   "id": "b9486b83-a6d6-4615-9e30-48a1360e6521",
   "metadata": {},
   "source": [
    "Longitude de la France métropolitaine est entre -4° et 8°, sa latitude entre 42° et 51°. La base de données ne se restreint donc pas seulement à la France métropolitaine, elle comprend aussi l'Outre-Mer français."
   ]
  },
  {
   "cell_type": "markdown",
   "id": "fe2c7ef5-44bc-49c6-820e-3d10104f5484",
   "metadata": {
    "tags": []
   },
   "source": [
    "## Villes"
   ]
  },
  {
   "cell_type": "code",
   "execution_count": null,
   "id": "0bb1e2f1-0db6-44b8-a805-e01eb9480c69",
   "metadata": {},
   "outputs": [],
   "source": [
    "communes = df2.com.unique()\n",
    "len(communes)"
   ]
  },
  {
   "cell_type": "markdown",
   "id": "9d6d48dc-7000-4072-afd7-3942aa9f5b35",
   "metadata": {},
   "source": [
    "Les accidents reportés dans cette base de données ne se sont produits que dans moins de 12000 communes, sur plus de 36000 en France selon l'INSEE."
   ]
  },
  {
   "cell_type": "code",
   "execution_count": null,
   "id": "997ac645-af15-42db-ab53-1053414a5156",
   "metadata": {},
   "outputs": [],
   "source": [
    "plt.figure(figsize=(10,5))\n",
    "df2.dep.value_counts().sort_values(ascending=False)[:10].plot(kind='bar').set(title = \"distribution du nombre d'accidents en fonction du département\")"
   ]
  },
  {
   "cell_type": "markdown",
   "id": "da77ce60-23b9-49e4-9853-e88d9392341a",
   "metadata": {},
   "source": [
    "Sans surprise, la ville de Paris contient le plus grand nombre d'accidents routiers. Cela n'implique pas directement que conduire à Paris augmente la probabilité d'avoir un accident, il faut prendre en compte le nombre de voitures circulant dans la capitale."
   ]
  },
  {
   "cell_type": "code",
   "execution_count": null,
   "id": "0428bc4b-9a90-4ffe-ad4a-0c037440c6b7",
   "metadata": {},
   "outputs": [],
   "source": [
    "paris =df2[df2['dep']=='75']\n",
    "plt.figure(figsize=(10,15))\n",
    "paris.com.value_counts().plot(kind='pie',autopct='%1.1f%%').set(title = \"répartition des d'accidents parisiens en fonction de l'arrondissement\")\n",
    "\n",
    "centre_circle = plt.Circle((0, 0), 0.70, fc='white')\n",
    "fig = plt.gcf()\n",
    "  \n",
    "# Adding Circle in Pie chart\n",
    "fig.gca().add_artist(centre_circle)\n",
    "  "
   ]
  },
  {
   "cell_type": "markdown",
   "id": "3a47058f-0294-4f38-badd-2b16adc15b20",
   "metadata": {},
   "source": [
    "Le 16e arrondissement de Paris est celui qui comporte le plus d'accidents de la route "
   ]
  },
  {
   "cell_type": "code",
   "execution_count": null,
   "id": "a9afc8a6-ff5b-4bbe-b327-cc615e1e6758",
   "metadata": {},
   "outputs": [],
   "source": [
    "### Brouillon API noms de villes ###"
   ]
  },
  {
   "cell_type": "code",
   "execution_count": null,
   "id": "4e9f50f6-7b4b-44b5-9b48-f1cf464c098c",
   "metadata": {},
   "outputs": [],
   "source": [
    "code_commune=\"85048\"\n",
    "api_root=\"https://geo.api.gouv.fr/communes\"\n",
    "url_api = f\"{api_root}?code=\"+ f\"{code_commune}\"  \n",
    "\n",
    "import requests\n",
    "import pandas as pd\n",
    "\n",
    "req = requests.get(url_api)\n",
    "wb = req.json()\n",
    "\n",
    "df3 = pd.json_normalize(wb)\n",
    "\n",
    "df3"
   ]
  },
  {
   "cell_type": "code",
   "execution_count": null,
   "id": "26d36ff2-14d4-487d-b7ef-a8b576e2b5dc",
   "metadata": {},
   "outputs": [],
   "source": [
    "df2"
   ]
  },
  {
   "cell_type": "code",
   "execution_count": null,
   "id": "7b73cdcb-f6b4-4853-91df-41b8010b0cfb",
   "metadata": {},
   "outputs": [],
   "source": [
    "api_root=\"https://geo.api.gouv.fr/communes\"  \n",
    "\n",
    "import requests\n",
    "import pandas as pd\n",
    "\n",
    "req = requests.get(api_root)\n",
    "wb = req.json()\n",
    "\n",
    "df3 = pd.json_normalize(wb)\n",
    "\n",
    "df3=df3[['nom','code']]\n",
    "df3.columns = ['nom_villes', 'com']\n",
    "df3"
   ]
  },
  {
   "cell_type": "code",
   "execution_count": null,
   "id": "866ffdc9-fa83-455f-964f-495332b9acf7",
   "metadata": {},
   "outputs": [],
   "source": [
    "df4 = pd.merge(df2,df3,how = 'left')\n",
    "df4\n",
    "\n",
    "import time\n",
    "t1 = time.time()\n",
    "\n",
    "for i in range(len(df4)):\n",
    "    if df4['com'][i] in list(df2[df2['dep']=='75'].com):\n",
    "        df4['nom_villes'][i]='Paris'\n",
    "    \n",
    "\n",
    "print(time.time()- t1)\n",
    "\n",
    "    "
   ]
  },
  {
   "cell_type": "code",
   "execution_count": null,
   "id": "a6130aa7-48a1-4ce9-a33c-5053b4ea0f40",
   "metadata": {},
   "outputs": [],
   "source": [
    "#df4.isnull().sum().sort_values(ascending=False)"
   ]
  },
  {
   "cell_type": "code",
   "execution_count": null,
   "id": "783320da-1b24-4396-894b-a3215196619d",
   "metadata": {},
   "outputs": [],
   "source": [
    "plt.figure(figsize=(10,5))\n",
    "df4.nom_villes.value_counts().sort_values(ascending=False)[:10].plot(kind='bar').set(title = \"villes avec le plus d'accidents\")"
   ]
  },
  {
   "cell_type": "code",
   "execution_count": null,
   "id": "d3550e5a-fd31-410d-ae4f-ece7cc071e95",
   "metadata": {},
   "outputs": [],
   "source": [
    "def get_city_from_url(code):\n",
    "    try : \n",
    "        code_commune = code\n",
    "        api_root=\"https://geo.api.gouv.fr/communes\"\n",
    "        url_api = f\"{api_root}?code=\"+ f\"{code_commune}\"  \n",
    "        req = requests.get(url_api)\n",
    "        wb = req.json()\n",
    "\n",
    "        a = pd.json_normalize(wb)\n",
    "        return a['nom'][0]\n",
    "    except : \n",
    "        return np.NaN \n",
    "\n",
    "\n",
    "df2['nom_villes']=df2['com'].apply(get_city_from_url)\n",
    "\n",
    "df"
   ]
  },
  {
   "cell_type": "code",
   "execution_count": null,
   "id": "4d32213d-dc32-44c2-ba40-d7a4488483b3",
   "metadata": {},
   "outputs": [],
   "source": [
    "api_root=\"https://geo.api.gouv.fr/communes\"\n",
    "req = requests.get(api_root)\n",
    "wb = req.json()\n",
    "\n",
    "df = pd.json_normalize(wb)\n",
    "\n",
    "df[df['nom']=='Paris']\n",
    "\n"
   ]
  },
  {
   "cell_type": "code",
   "execution_count": null,
   "id": "6a0b3b8f-5eec-4390-86ff-9eb40237312c",
   "metadata": {},
   "outputs": [],
   "source": [
    "### FIN BROUILLON API ###"
   ]
  },
  {
   "cell_type": "code",
   "execution_count": null,
   "id": "0cd255a5-15dd-4361-8130-8494bc71b944",
   "metadata": {},
   "outputs": [],
   "source": [
    "df_sample = df[:3000]\n",
    "df_sample"
   ]
  },
  {
   "cell_type": "code",
   "execution_count": null,
   "id": "ef7343e8-5440-449e-a588-552292af2fce",
   "metadata": {},
   "outputs": [],
   "source": [
    "import folium\n",
    "\n",
    "palette = sns.color_palette(\"coolwarm\", 8)\n",
    "\n",
    "def interactive_map(df):\n",
    "\n",
    "    # convert in number\n",
    "    df_sample['color'] = [int(df_sample.iloc[i]['grav']) for i in range(len(df_sample))]\n",
    "\n",
    "    df_sample['color'] = [palette.as_hex()[x] for x in df_sample['color']]\n",
    "\n",
    "\n",
    "    center = df_sample[['lat2', 'long2']].mean().values.tolist()\n",
    "    sw = df_sample[['lat2', 'long2']].min().values.tolist()\n",
    "    ne = df_sample[['lat2', 'long2']].max().values.tolist()\n",
    "\n",
    "    m = folium.Map(location = center, tiles='Stamen Toner')\n",
    "\n",
    "    # I can add marker one by one on the map\n",
    "    for i in range(0,len(df)):\n",
    "\n",
    "        folium.Marker([df_sample.iloc[i]['lat2'], df_sample.iloc[i]['long2']],\n",
    "                    popup=f\"Luminosité: {df_sample.iloc[i]['lum']}, <br>gravité: {df_sample.iloc[i]['grav']}, <br>vma: {df_sample.iloc[i]['vma']}\",\n",
    "                    icon=folium.Icon(icon='car', prefix='fa')).add_to(m)\n",
    "\n",
    "    m.fit_bounds([sw, ne])\n",
    "\n",
    "    return m\n",
    "\n",
    "m = interactive_map(df_sample)"
   ]
  },
  {
   "cell_type": "code",
   "execution_count": null,
   "id": "d0c08d15-909f-4c7f-bbfb-276d216d1daf",
   "metadata": {},
   "outputs": [],
   "source": [
    "m"
   ]
  },
  {
   "cell_type": "code",
   "execution_count": null,
   "id": "fadbde90-1cfd-4eac-b9ac-4544e71e8eab",
   "metadata": {},
   "outputs": [],
   "source": [
    "pip install geojson"
   ]
  },
  {
   "cell_type": "code",
   "execution_count": null,
   "id": "828d09b4-f92c-422f-b1f6-29287ca5d62e",
   "metadata": {},
   "outputs": [],
   "source": [
    "import geopandas as gpd\n",
    "import json\n",
    "import geojson\n",
    "departements = gpd.read_file('accident-route/departements-france.geojson')\n",
    "departements.head()"
   ]
  },
  {
   "cell_type": "code",
   "execution_count": null,
   "id": "6ada208e-d190-4d1f-bef2-a427b04487eb",
   "metadata": {},
   "outputs": [],
   "source": [
    "dep_accident = df2.dep.value_counts().to_frame().reset_index()\n",
    "dep_accident[\"échelle d'incidence\"]=np.log10(dep_accident['dep'])\n",
    "dep_accident"
   ]
  },
  {
   "cell_type": "code",
   "execution_count": null,
   "id": "09d9d0c1-4522-4c9b-af71-ef2fbbe6481a",
   "metadata": {},
   "outputs": [],
   "source": [
    "import plotly.express as px\n",
    "\n",
    "fig1 = px.choropleth_mapbox(dep_accident, locations = 'index',\n",
    "                            geojson= departements,\n",
    "                            color=\"échelle d'incidence\",\n",
    "                            color_continuous_scale=[\"green\",\"orange\",\"red\"],\n",
    "                            range_color=[1,4],\n",
    "                            hover_name='index',\n",
    "                            hover_data=['dep'],\n",
    "                            title=\"Carte de répartition des accidents en France par département\",\n",
    "                            mapbox_style=\"open-street-map\",\n",
    "                            center= {'lat':46, 'lon':2},\n",
    "                            zoom =3.5, \n",
    "                            opacity= 0.6)\n",
    "\n",
    "fig1.show()"
   ]
  },
  {
   "cell_type": "code",
   "execution_count": null,
   "id": "0cb006ea-c11a-4bc0-ae97-7b1cec3d3f58",
   "metadata": {},
   "outputs": [],
   "source": [
    "df_samp = df.sample(int(len(df)*0.01))\n",
    "\n",
    "df_samp \n",
    "fig2 = px.density_mapbox(df_samp, lat='lat2',lon='long2', radius=10, center=dict(lat=48.9, lon=2.4), zoom=4,\n",
    "                         mapbox_style=\"stamen-watercolor\")\n",
    "fig2.show()\n",
    "\n",
    "\n",
    "\n",
    "# OU avec tous les accidents : moins lisible \n",
    "# df3 = df.copy()\n",
    "# fig2 = px.density_mapbox(df3, lat='lat2',lon='long2', radius=10,\n",
    "#                       center=dict(lat=48.9, lon=2.4), zoom=4,\n",
    "#                       mapbox_style=\"stamen-watercolor\")\n",
    "# fig2.show()"
   ]
  },
  {
   "cell_type": "markdown",
   "id": "d427fc19-8ea5-4de9-a352-e5daaeadf3aa",
   "metadata": {
    "tags": []
   },
   "source": [
    "## Heures d'accident "
   ]
  },
  {
   "cell_type": "code",
   "execution_count": null,
   "id": "11bc1dd4-e316-471b-a05a-8472759b1e6f",
   "metadata": {},
   "outputs": [],
   "source": [
    "def time(data):\n",
    "    return datetime.strptime(data, \"%H:%M\").time()\n",
    "\n",
    "df2['hrmn']=df2['hrmn'].apply(time)"
   ]
  },
  {
   "cell_type": "code",
   "execution_count": null,
   "id": "ca32aac0-43cd-463d-96ad-d2b5b13f5bdc",
   "metadata": {},
   "outputs": [],
   "source": [
    "df.hrmn = pd.to_datetime(df.hrmn)\n",
    "df.hrmn.dt.hour"
   ]
  },
  {
   "cell_type": "code",
   "execution_count": null,
   "id": "8adaae37-4a49-491b-996a-88245824481e",
   "metadata": {},
   "outputs": [],
   "source": [
    "sns.histplot(df.hrmn.dt.hour,bins=24)"
   ]
  },
  {
   "cell_type": "code",
   "execution_count": null,
   "id": "7aeee5ef-75c2-4ca6-a0d9-1a25ecb3699d",
   "metadata": {},
   "outputs": [],
   "source": [
    "sns.distplot(df.hrmn.dt.hour,bins=24)"
   ]
  },
  {
   "cell_type": "markdown",
   "id": "0218b636-8c6e-41d4-93a5-e9dd90303d96",
   "metadata": {},
   "source": [
    "On observe d'un pic d'accidents vers 17h (heure de pointe donc plus de monde sur les routes donc plus d'accidents). "
   ]
  },
  {
   "cell_type": "markdown",
   "id": "4c22e74e-bd1b-4a1b-bbc6-58c0b8fab187",
   "metadata": {},
   "source": [
    "### Jours de la semaine "
   ]
  },
  {
   "cell_type": "code",
   "execution_count": null,
   "id": "c5e2289a-aec1-45fd-96aa-493f2724d8e0",
   "metadata": {},
   "outputs": [],
   "source": [
    "sns.histplot(df.jour,bins = 31).set(title = \"distribution du nombre d'accidents en fonction du jour\")"
   ]
  },
  {
   "cell_type": "markdown",
   "id": "25e37fa0-8c4a-407c-acea-119b18eee075",
   "metadata": {},
   "source": [
    "### Mois de l'année "
   ]
  },
  {
   "cell_type": "code",
   "execution_count": null,
   "id": "79485784-8933-4a28-9521-ffdab37cce2b",
   "metadata": {},
   "outputs": [],
   "source": [
    "sns.histplot(df.mois,bins = 12).set(title = \"distribution du nombre d'accidents en fonction du mois\")"
   ]
  },
  {
   "cell_type": "code",
   "execution_count": null,
   "id": "b71132c9-2e0a-4b4b-8f87-f215229b5e5b",
   "metadata": {},
   "outputs": [],
   "source": [
    "df.mois.dt.month"
   ]
  },
  {
   "cell_type": "code",
   "execution_count": null,
   "id": "aa2ae5e3-d717-4246-a2e4-5a24675402a0",
   "metadata": {},
   "outputs": [],
   "source": [
    "timestamp = datetime.timestamp((df2.hrmn)[0])"
   ]
  },
  {
   "cell_type": "code",
   "execution_count": null,
   "id": "57314dc7-4648-4df2-96cc-383f30fc2315",
   "metadata": {},
   "outputs": [],
   "source": [
    "sns.histplot(df2.hrmn,bins=24)"
   ]
  },
  {
   "cell_type": "code",
   "execution_count": null,
   "id": "e0f03cd7",
   "metadata": {},
   "outputs": [],
   "source": [
    "df.drop(df.loc[df['grav']==-1].index, inplace=True)\n",
    "df['grav'].value_counts()"
   ]
  },
  {
   "cell_type": "code",
   "execution_count": null,
   "id": "bc0384b1",
   "metadata": {},
   "outputs": [],
   "source": [
    "df.grav.value_counts().plot(kind='bar',xlabel='Niveau de gravité',ylabel='Nombre de personnes').set(title = \"classes de gravité\")"
   ]
  },
  {
   "cell_type": "code",
   "execution_count": null,
   "id": "bd144753",
   "metadata": {},
   "outputs": [],
   "source": [
    "df.groupby('lum')['grav'].value_counts().plot"
   ]
  },
  {
   "cell_type": "code",
   "execution_count": null,
   "id": "f820f0e2",
   "metadata": {},
   "outputs": [],
   "source": [
    "sns.countplot(y='grav',data=df,hue='lum').set(title = \"distribution de la luminosité en fonction de la gravité\")"
   ]
  },
  {
   "cell_type": "markdown",
   "id": "bc5f0d48-c17a-46d7-93f2-5ee1d0f5cfcf",
   "metadata": {},
   "source": [
    "Luminosité = 1 correspond au plein jour. Quelque soit la gravité, il y a beaucoup plus d'accidents le jour dû au nombre de voitures. Pour la gravité = 2 qui correspond à tué, on remarque que cela s'équilibre plus avec lum = 3 qui correspond à la nuit sans éclairage public. Cela semble cohérent : les conditions de circulation sont plus dangereuses."
   ]
  },
  {
   "cell_type": "code",
   "execution_count": null,
   "id": "8a1171cd-a52e-4cdf-b2f6-5935eaaaa307",
   "metadata": {},
   "outputs": [],
   "source": [
    "sns.countplot(y='grav',data=df,hue='sexe').set(title = \"distribution du sexe en fonction de la gravité\")"
   ]
  },
  {
   "cell_type": "markdown",
   "id": "1879ca00-10f4-439a-896a-ab905219424c",
   "metadata": {},
   "source": [
    "Quelque soit la gravité, il y a beaucoup plus d'hommes impliqués dans des accidents de voiture que de femmes."
   ]
  },
  {
   "cell_type": "code",
   "execution_count": null,
   "id": "b78a9890-fe63-42a2-ae82-506cb329f871",
   "metadata": {},
   "outputs": [],
   "source": [
    "def vitesse(speed):\n",
    "    if speed < 50 : \n",
    "        return \" moins de 50 km/h\"\n",
    "    elif speed < 80 :\n",
    "        return \"entre 50 et 80 km/h\"\n",
    "    elif speed < 130:\n",
    "        return \"entre 80 et 130 km/h\"\n",
    "    else:\n",
    "        return \"plus de 130 km/h\""
   ]
  },
  {
   "cell_type": "code",
   "execution_count": null,
   "id": "a7267396-f816-4ea2-874b-7e378d5d5bc0",
   "metadata": {},
   "outputs": [],
   "source": [
    "dfvitesse = df.copy()\n",
    "dfvitesse['category_speed'] = df['vma'].apply(vitesse)"
   ]
  },
  {
   "cell_type": "code",
   "execution_count": null,
   "id": "32d77122-ff33-46f6-a26f-7813acc6eb6b",
   "metadata": {},
   "outputs": [],
   "source": [
    "sns.displot(y='category_speed',data=dfvitesse,hue='grav').set(title=\"distribution de la gravité en fonction de la vitesse\")"
   ]
  },
  {
   "cell_type": "markdown",
   "id": "c6a57892-3fa4-48dc-9837-f3d9a68f1633",
   "metadata": {},
   "source": [
    "La grande majorité des accidents ont lieu entre 50 et 80 km/h. Cependant, les accidents les plus mortels se plus produisent à haute vitesse."
   ]
  },
  {
   "cell_type": "code",
   "execution_count": null,
   "id": "e962a194",
   "metadata": {},
   "outputs": [],
   "source": [
    "sns.histplot(df.Start_Time.dt.dayofweek,bins=7)\n",
    "plt.xlabel('Weekdays')"
   ]
  },
  {
   "cell_type": "code",
   "execution_count": null,
   "id": "d97d3b06",
   "metadata": {},
   "outputs": [],
   "source": [
    "sns.scatterplot(x=df.long, y=df.lat)"
   ]
  },
  {
   "cell_type": "code",
   "execution_count": null,
   "id": "0e0b5ae9",
   "metadata": {},
   "outputs": [],
   "source": [
    "import re \n",
    "\n",
    "def cleanData(data):\n",
    "    data = re.sub(',','.',data) \n",
    "    return data\n",
    "\n",
    "df['lat2']=df['lat'].apply(cleanData)\n",
    "df['long2']=df['long'].apply(cleanData)\n",
    "\n",
    "df[\"lat2\"] = pd.to_numeric(df[\"lat2\"])\n",
    "df[\"long2\"] = pd.to_numeric(df[\"long2\"])"
   ]
  },
  {
   "cell_type": "code",
   "execution_count": null,
   "id": "8da6cf10",
   "metadata": {},
   "outputs": [],
   "source": [
    "def cleanData(data):\n",
    "    data = re.sub(',','.',data) \n",
    "    return data"
   ]
  },
  {
   "cell_type": "code",
   "execution_count": null,
   "id": "4eb12d05",
   "metadata": {},
   "outputs": [],
   "source": [
    "df['lat2']=df['lat'].apply(cleanData)\n",
    "df['long2']=df['long'].apply(cleanData)"
   ]
  },
  {
   "cell_type": "code",
   "execution_count": null,
   "id": "40e4c417",
   "metadata": {},
   "outputs": [],
   "source": [
    "df[\"lat2\"] = pd.to_numeric(df[\"lat2\"])\n",
    "df[\"long2\"] = pd.to_numeric(df[\"long2\"])"
   ]
  },
  {
   "cell_type": "code",
   "execution_count": null,
   "id": "d6eb23e9",
   "metadata": {},
   "outputs": [],
   "source": [
    "sns.scatterplot(x=df.long2, y=df.lat2)"
   ]
  },
  {
   "cell_type": "code",
   "execution_count": null,
   "id": "a5074e0b",
   "metadata": {},
   "outputs": [],
   "source": [
    "pip install folium"
   ]
  },
  {
   "cell_type": "code",
   "execution_count": null,
   "id": "e724178d",
   "metadata": {},
   "outputs": [],
   "source": [
    "import folium "
   ]
  },
  {
   "cell_type": "code",
   "execution_count": null,
   "id": "025fbf6d",
   "metadata": {},
   "outputs": [],
   "source": [
    "from folium.plugins import HeatMap"
   ]
  },
  {
   "cell_type": "code",
   "execution_count": null,
   "id": "cdc70f63",
   "metadata": {},
   "outputs": [],
   "source": [
    "liste = list(zip(list(df.lat2), list(df.long2)))"
   ]
  },
  {
   "cell_type": "code",
   "execution_count": null,
   "id": "2ec73a16",
   "metadata": {},
   "outputs": [],
   "source": [
    "map = folium.Map()\n",
    "HeatMap(liste).add_to(map)\n",
    "map"
   ]
  },
  {
   "cell_type": "markdown",
   "id": "1be7b2b4-0334-4579-9fd5-1efcfbe82475",
   "metadata": {},
   "source": [
    "## DATA SELECTION"
   ]
  },
  {
   "cell_type": "code",
   "execution_count": null,
   "id": "c6318fe5-42cc-42cb-acf5-d0f1849621fa",
   "metadata": {},
   "outputs": [],
   "source": [
    "df.var().sort_values()"
   ]
  },
  {
   "cell_type": "code",
   "execution_count": null,
   "id": "33369fe0-fd01-468e-a8f8-7cee41122d72",
   "metadata": {},
   "outputs": [],
   "source": [
    "plt.figure(figsize=(20,20))\n",
    "sns.heatmap(df[['agg','vma','grav','sexe', 'catu', 'plan','prof', 'vosp', 'surf',\n",
    "                'circ','motor','atm','lum','place','lat2','long2',\n",
    "                'catv']].corr(),annot=True,linewidth=.5,cmap='YlGnBu').set(title = \"matrice de corrélation de plusieurs features\")"
   ]
  },
  {
   "cell_type": "markdown",
   "id": "8dc26554-7431-4538-a264-c398ad8c8343",
   "metadata": {},
   "source": [
    "Les colonnes prof, catu, plan, vosp et circ correspondant respectivement au profil en long décrivant la déclivité de la route à l'endroit de l'accident, la catégorie d'usager, le tracé en plan, l’existence d’une voie réservée, indépendamment du fait que l’accident ait lieu ou non sur cette voie, le régime de circulation ont des variances très faibles, entre 0.1 et 1, pour des variables catégorielles non binaires, donc on peut les retirer des features aidant à la prédiction de notre modèle. \n",
    "\n",
    "De plus, la heatmap montre que 'catu' et 'place' ont une corrélation de 0.89 donc on peut garder uniquement 'place' en feature. De même, 'surf' et 'atm' sont corrélés à 0.25 donc on ne peut en garder qu'un seul en feature. Aussi, 'agg' et 'vma'(vitesse maximale autorisée sur la portion de route correspondante) sont très corrélés négatvement (-0.64) donc on peut ne garder que vma en feature. De plus, 'vosp' est corrélé à 'agg' corrélé à 'vma' donc on peut les enlever aussi. 'Circ' a une corrélation significative de 0.19 avec 'vma' donc on peut aussi le retirer du datset pour la prédiction. "
   ]
  },
  {
   "cell_type": "code",
   "execution_count": null,
   "id": "c585bdbb-3f7d-4796-9dde-f11553a87ec4",
   "metadata": {},
   "outputs": [],
   "source": [
    "plt.figure(figsize=(20,20))\n",
    "sns.heatmap(df[['vma','motor','atm','lum','place','obs','obsm','int','situ',\n",
    "                'choc']].corr(),annot=True,linewidth=.5,cmap='YlGnBu').set(title = \"matrice de corrélation de plusieurs features\")"
   ]
  },
  {
   "cell_type": "code",
   "execution_count": null,
   "id": "4d1a9265-7ed5-433f-aea9-90622d52557c",
   "metadata": {},
   "outputs": [],
   "source": [
    "plt.figure(figsize=(20,20))\n",
    "sns.heatmap(df[['place','grav', 'sexe', 'an_nais', 'trajet', 'secu1',\n",
    "       'catv', 'obs', 'obsm', 'choc', 'manv', 'motor', 'catr','nbv','infra','situ',\n",
    "                'vma']].corr(),annot=True,linewidth=.5,cmap='YlGnBu').set(title = \"matrice de corrélation de plusieurs features\")"
   ]
  },
  {
   "cell_type": "markdown",
   "id": "d03035f2-6f9d-437a-8c5f-bcedc698c005",
   "metadata": {},
   "source": [
    "'obs' et 'obsm' ont une corrélation de -0.3 ce qui est élevé donc on n'en garde qu'un seul en feature ('obsm'). \n",
    "'catr' et 'vma' ont une corrélation de -0.47 ce qui est élevé donc on n'en garde qu'un seul en feature ('vma').\n",
    "'situ' et 'obsm' ont une corrélation de -0.16 ce qui est élevé donc on n'en garde qu'un seul en feature ('obsm').\n",
    "'nbv' et 'vma' ont une corrélation de 0.33 ce qui est élevé donc on n'en garde qu'un seul en feature ('vma')."
   ]
  },
  {
   "cell_type": "code",
   "execution_count": null,
   "id": "e7ac142c-1b50-4085-abf0-2093fedd677e",
   "metadata": {},
   "outputs": [],
   "source": [
    "plt.figure(figsize=(20,20))\n",
    "sns.heatmap(df[['place','grav', 'sexe','trajet', 'secu1','int',\n",
    "       'catv','obsm', 'choc', 'manv','infra','vma']].corr(),annot=True,linewidth=.5,cmap='YlGnBu').set(title = \"matrice de corrélation de plusieurs features\")"
   ]
  },
  {
   "cell_type": "markdown",
   "id": "3c01362d-a9eb-4727-834a-45c8c07b86a5",
   "metadata": {},
   "source": [
    "'infra', 'trajet' et 'manv' peuvent être retirés car ils sont corrélés à d'autres variables utilisés déjà en feature et sont ainsi peu utiles. "
   ]
  },
  {
   "cell_type": "code",
   "execution_count": null,
   "id": "c766e125-d161-4818-a8a9-68e56556d287",
   "metadata": {},
   "outputs": [],
   "source": [
    "plt.figure(figsize=(20,20))\n",
    "sns.heatmap(df[['place','grav','sexe','int','an_nais','secu1',\n",
    "       'catv','obsm', 'choc', 'vma','jour', 'mois', 'hrmn', 'lum', 'dep', 'com', 'atm',\n",
    "       'col', 'adr', 'lat2', 'long2']].corr(),annot=True,linewidth=.5,cmap='YlGnBu').set(title = \"matrice de corrélation de plusieurs features\")"
   ]
  },
  {
   "cell_type": "markdown",
   "id": "fb4bd11e-00d9-41d0-a636-52e3efe7ff50",
   "metadata": {},
   "source": [
    "'col' et 'obsm' ont une corrélation négative de -0.4 ce qui est élevé donc on n'en garde qu'un seul en feature ('obsm'). \n",
    "De plus, 'dep' et 'com' ne sont pas utiles puisqu'on dispose de la latitude et de la longitude. \n",
    "Les variables 'jour' et 'mois' ne seront pas utiles pour la prédiction, n'influant pas sur la gravité d'un accident."
   ]
  },
  {
   "cell_type": "markdown",
   "id": "20c57f28-cdca-42a6-a97b-bc950bb07555",
   "metadata": {},
   "source": [
    "On supprime directement la colonne an : nous n'avons que des données de 2021."
   ]
  },
  {
   "cell_type": "code",
   "execution_count": null,
   "id": "016af320-5c41-4f4d-a234-2bcd7898211a",
   "metadata": {},
   "outputs": [],
   "source": [
    "df.drop(['trajet','catu',\n",
    "       'obs', 'catr', 'circ', 'nbv', 'vosp',\n",
    "       'prof', 'plan', 'surf', 'infra', 'situ', 'jour', 'mois', 'an',\n",
    "       'hrmn', 'dep', 'com', 'agg', 'col', 'adr'], axis = 1, inplace = True)"
   ]
  },
  {
   "cell_type": "markdown",
   "id": "e98d0263-aff3-43b6-9bc9-216358110818",
   "metadata": {},
   "source": [
    "## MODELISATION"
   ]
  },
  {
   "cell_type": "code",
   "execution_count": null,
   "id": "6893f1c9-81a9-4bf6-a790-49e05c26130e",
   "metadata": {},
   "outputs": [],
   "source": [
    "dfmodel = df.copy()"
   ]
  },
  {
   "cell_type": "code",
   "execution_count": null,
   "id": "f25202a9-5808-4937-a482-4e0c040d294b",
   "metadata": {},
   "outputs": [],
   "source": [
    "dfmodel.columns"
   ]
  },
  {
   "cell_type": "code",
   "execution_count": null,
   "id": "39040fb3-646f-4fa6-9c59-fb73b89b627c",
   "metadata": {},
   "outputs": [],
   "source": [
    "labels, counts = np.unique(dfmodel['grav'], return_counts=True)\n",
    "plt.bar(labels, counts)\n",
    "plt.gca().set_xticks(labels)\n",
    "plt.title('distribution des classes de gravité')\n",
    "plt.show()"
   ]
  },
  {
   "cell_type": "markdown",
   "id": "eddf5c00-8793-47a3-859a-682fe434831d",
   "metadata": {},
   "source": [
    "On rappelle que les classes sont  : 1 = indemne, 2 = tué, 3 = hospitalisé, 4 = bléssé léger.\n",
    "On remarque un fort déséquilibrage des classes visées pour la prédiction. En premier lieu, nous regroupons les tués et hospitalisés en une seule classe."
   ]
  },
  {
   "cell_type": "code",
   "execution_count": null,
   "id": "cd067697-9ecf-4ac3-9012-64bd1309c37b",
   "metadata": {},
   "outputs": [],
   "source": [
    "dfmodel['grav'] =  dfmodel['grav'].apply(lambda x: 2 if x == 3 else x) # fusion des classes 2 et 3.\n",
    "dfmodel['grav'] =  dfmodel['grav'].apply(lambda x: 3 if x == 4 else x) # classe 4 devient la nouvelle classe 3\n",
    "dfmodel['grav'] =  dfmodel['grav'].apply(lambda x: x-1) # première classe doit être 0"
   ]
  },
  {
   "cell_type": "code",
   "execution_count": null,
   "id": "f0d6d01b-e71a-413d-9b65-4d95dcb14e9e",
   "metadata": {},
   "outputs": [],
   "source": [
    "labels2, counts2 = np.unique(dfmodel['grav'], return_counts=True)\n",
    "plt.bar(labels2, counts2)\n",
    "plt.gca().set_xticks(labels2)\n",
    "plt.title('distribution des classes de gravité')\n",
    "plt.show()"
   ]
  },
  {
   "cell_type": "markdown",
   "id": "cae50de6-723c-42db-ad44-5853ae827bb9",
   "metadata": {},
   "source": [
    "Nous voulons ré-équilibrer les classes de gravité pour éviter un biais de prédiction. Pour cela, nous utilisons un algorithme d'over sampling, SMOTENC, qui gère aussi bien les données numériques que catégorielles."
   ]
  },
  {
   "cell_type": "code",
   "execution_count": null,
   "id": "216966a8-44cf-43f1-84cc-bf41d5bd9cf5",
   "metadata": {},
   "outputs": [],
   "source": [
    "dfmodel.columns"
   ]
  },
  {
   "cell_type": "code",
   "execution_count": null,
   "id": "a45edfa6-5b84-41aa-82e1-2e7486ecf02e",
   "metadata": {},
   "outputs": [],
   "source": [
    "Y = dfmodel['grav']\n",
    "X = dfmodel.drop(['grav'],axis = 1)"
   ]
  },
  {
   "cell_type": "code",
   "execution_count": null,
   "id": "3654c7c7-7050-4e95-8cf6-34e3e2f8ad11",
   "metadata": {},
   "outputs": [],
   "source": [
    "X.isnull().sum()"
   ]
  },
  {
   "cell_type": "code",
   "execution_count": null,
   "id": "f9e98111-418a-4641-819c-77f4acaead20",
   "metadata": {},
   "outputs": [],
   "source": [
    "X['an_nais'].mean(),X['an_nais'].median()"
   ]
  },
  {
   "cell_type": "markdown",
   "id": "a1637b0e-6564-4c08-802a-6e59c07d57c9",
   "metadata": {},
   "source": [
    "On choisit de compléter les 3007 valeurs manquantes d'années de naissance par la médiane des années de naissance car elle est moins sensible aux valeurs aberrantes que la moyenne. "
   ]
  },
  {
   "cell_type": "code",
   "execution_count": null,
   "id": "ee996105-c5ad-44a7-b43e-3bcec1457b31",
   "metadata": {},
   "outputs": [],
   "source": [
    "median = X['an_nais'].median()\n",
    "X['an_nais'].fillna(median, inplace=True)"
   ]
  },
  {
   "cell_type": "markdown",
   "id": "399e8746-4d6d-4a49-89e6-877192a56a85",
   "metadata": {},
   "source": [
    "Etant donné que nous avons un dataset déséquilibré avec beaucoup moins de valeurs de gravité égales à 1 (fusion des blessés hospitalisés et ds tués) que de valeurs égales à 0 ou 2 (indemnes et blessés légers), nous allons utiliser une méthode pour rééquilibrer le dataset appelé SMOTE NC. Le SMOTE, acronyme pour Synthetic Minority Oversampling TEchnique, est une méthode de suréchantillonnage des observations minoritaires. Il consiste à générer de nouveaux individus minoritaires qui ressemblent aux autres, sans être strictement identiques. Cela permet de densifier de façon homogène la population d’individus minoritaires. Cependant, le SMOTE classique ne permet pas de traiter les variables catégorielles. Pour traiter des données mixtes (mixed data), c’est-à-dire contenant à la fois des variables numériques et catégorielles, il faut utiliser une variante : le SMOTE-NC, pour SMOTE-Nominal Continuous."
   ]
  },
  {
   "cell_type": "code",
   "execution_count": null,
   "id": "2fe863cf-8cd7-4554-9f06-f9a3a63ea96d",
   "metadata": {},
   "outputs": [],
   "source": [
    "var_categoriques = [0,1,3,4,5,6,7,8,10,11,12] #indices des colonnes de features catégoriques\n",
    "smNC = SMOTENC(categorical_features=var_categoriques)\n",
    "XsmotedNC, YsmotedNC = smNC.fit_resample(X,Y)"
   ]
  },
  {
   "cell_type": "code",
   "execution_count": null,
   "id": "3628c974-3499-4653-a219-4cb82eb54cf5",
   "metadata": {},
   "outputs": [],
   "source": [
    "XsmotedNC.shape"
   ]
  },
  {
   "cell_type": "code",
   "execution_count": null,
   "id": "cf12646e-2c23-4d02-8fc9-cd497db970e1",
   "metadata": {},
   "outputs": [],
   "source": [
    "XsmotedNC.head(2)"
   ]
  },
  {
   "cell_type": "code",
   "execution_count": null,
   "id": "80c73a22-cae1-48ee-95ce-e0e41f9746c0",
   "metadata": {},
   "outputs": [],
   "source": [
    "labels_reb, counts_reb = np.unique(YsmotedNC, return_counts=True)\n",
    "plt.bar(labels_reb, counts_reb)\n",
    "plt.gca().set_xticks(labels_reb)\n",
    "plt.title('distribution des classes de gravité')\n",
    "plt.show()"
   ]
  },
  {
   "cell_type": "markdown",
   "id": "008fa3ac-629f-48f8-8ae3-8941c7428b14",
   "metadata": {},
   "source": [
    "Nous avons bien ré-équilibré les classes comme nous le voulions. Ainsi, l'algorithme ne pourra plus prédire seulement la classe majoritaire afin d'assurer une bonne précision."
   ]
  },
  {
   "cell_type": "code",
   "execution_count": null,
   "id": "33e69fc1-3bf7-463f-87ba-1699d158f3fd",
   "metadata": {},
   "outputs": [],
   "source": [
    "features = ['place','sexe','secu1','catv','obsm','choc','manv','motor','lum','int','atm'] # features catégoriques qu'on veut encoder"
   ]
  },
  {
   "cell_type": "code",
   "execution_count": null,
   "id": "49ae5d1d-dc70-4f84-8dcf-8769088113cd",
   "metadata": {},
   "outputs": [],
   "source": [
    "XsmotedNC2 = pd.get_dummies(XsmotedNC[features].astype(str)) # nous les encodons en indicatrices"
   ]
  },
  {
   "cell_type": "code",
   "execution_count": null,
   "id": "eac86888-4ef8-4f82-bd29-5cf212b4b285",
   "metadata": {},
   "outputs": [],
   "source": [
    "XsmotedNC2['an_nais'] = XsmotedNC['an_nais'] # nous rajoutons les variables numériques à notre dataset\n",
    "XsmotedNC2['vma'] = XsmotedNC['vma']\n",
    "XsmotedNC2['lat2'] = XsmotedNC['lat2']\n",
    "XsmotedNC2['long2'] = XsmotedNC['long2']"
   ]
  },
  {
   "cell_type": "code",
   "execution_count": null,
   "id": "fc70381a-1004-408d-9899-dacf1efca65c",
   "metadata": {},
   "outputs": [],
   "source": [
    "XsmotedNC2"
   ]
  },
  {
   "cell_type": "code",
   "execution_count": null,
   "id": "73f64f08-672e-4c8d-9df9-188e9b5e3277",
   "metadata": {},
   "outputs": [],
   "source": [
    "Xtrain, Xtest, Ytrain, Ytest = train_test_split(XsmotedNC2,YsmotedNC)"
   ]
  },
  {
   "cell_type": "markdown",
   "id": "1f996922-ad80-4265-b286-8bc121fac710",
   "metadata": {
    "tags": []
   },
   "source": [
    "### Premier modèle : Random Forest "
   ]
  },
  {
   "cell_type": "code",
   "execution_count": null,
   "id": "174e8e53-d875-41e9-8d72-3ece501f63ec",
   "metadata": {},
   "outputs": [],
   "source": [
    "model_rf = RandomForestClassifier(n_estimators=100, \n",
    "                                  max_depth=8)\n",
    "#nous testons un premier modèle de Random Forest avec des paramètres classiques."
   ]
  },
  {
   "cell_type": "code",
   "execution_count": null,
   "id": "1db532d1-0543-42f8-b33d-6f572be8ddaf",
   "metadata": {},
   "outputs": [],
   "source": [
    "model_rf.fit(Xtrain, Ytrain)\n",
    "Ypredrf = model_rf.predict(Xtest)\n",
    "test_acc = accuracy_score(Ytest, Ypredrf) \n",
    "# la métrique de précision aura dans toute la suite un sens car nos classes sont équilibrées. \n",
    "# Il faut donc faire mieux que 33% pour être meilleur que le hasard.\n",
    "accu_rf = round(test_acc*100,1) "
   ]
  },
  {
   "cell_type": "code",
   "execution_count": null,
   "id": "ff8078e6-92ff-4b9f-b086-680aef26c890",
   "metadata": {},
   "outputs": [],
   "source": [
    "accu_rf"
   ]
  },
  {
   "cell_type": "markdown",
   "id": "53cce733-f662-4054-b751-3c4d7e20cf8a",
   "metadata": {},
   "source": [
    "Pour visualiser la performance de notre modèle, nous utiliserons une matrice de confusion. \n",
    "La matrice de confusion est en quelque sorte un résumé des résultats de prédiction pour un problème particulier de classification. Elle compare les données réelles pour une variable cible à celles prédites par un modèle. Les prédictions justes et fausses sont révélées et réparties par classe, ce qui permet de les comparer avec des valeurs définies.\n",
    "D'une façon générale, ces matrices excellent dans l'analyse rapide des données statistiques et de la simplification du déchiffrement des résultats par le biais de la Data Vizualisation. Ainsi, elles permettent d'apprécier les performances d'un modèle et d'identifier les tendances qui peuvent permettre d'en modifier les paramètres."
   ]
  },
  {
   "cell_type": "code",
   "execution_count": null,
   "id": "e8022d33-df80-4845-b2c3-cb382fd250cc",
   "metadata": {},
   "outputs": [],
   "source": [
    "cmrf = confusion_matrix(Ytest, Ypredrf,labels=model_rf.classes_)\n",
    "disprf = ConfusionMatrixDisplay(cmrf,display_labels=model_rf.classes_)\n",
    "disprf.plot()\n",
    "plt.grid(False)\n",
    "plt.title('Confusion matrix with Random Forest accuracy = '+str(accu_rf)+'%')\n",
    "plt.show()"
   ]
  },
  {
   "cell_type": "markdown",
   "id": "10310933-581d-484d-9c68-b67b068bad76",
   "metadata": {},
   "source": [
    "On constate que la deuxième classe est très mal prédite. Nous utilisons maintenant une RandomSearch pour commencer à optimiser les hyperparamètres du modèle."
   ]
  },
  {
   "cell_type": "code",
   "execution_count": null,
   "id": "136376d8-26d5-4058-8d32-721b6f1bfff4",
   "metadata": {},
   "outputs": [],
   "source": [
    "params_rf = {\n",
    "    'n_estimators': [50,100,200],\n",
    "    'max_depth': [3,5,7,9],\n",
    "    'min_samples_leaf': [1, 2, 4],\n",
    "    'min_samples_split': [2, 5, 10]\n",
    "}\n",
    "#nous créons notre grille d'hyperparamètres."
   ]
  },
  {
   "cell_type": "code",
   "execution_count": null,
   "id": "f6542eab-bc92-4adf-8d23-0fc992c075cc",
   "metadata": {},
   "outputs": [],
   "source": [
    "base_rfmodel = RandomForestClassifier()"
   ]
  },
  {
   "cell_type": "code",
   "execution_count": null,
   "id": "88f1e393-1a2f-4f1c-a3c8-c3023009bbbb",
   "metadata": {},
   "outputs": [],
   "source": [
    "folds = 3\n",
    "param_comb = 7\n",
    "# nous faisons de la 3-fold cross validation et nous testons 7 combinaisons d'hyperparamètres dans la RandomSearch."
   ]
  },
  {
   "cell_type": "code",
   "execution_count": null,
   "id": "133b0e31-8c39-4330-9a5c-1d8697f5276d",
   "metadata": {},
   "outputs": [],
   "source": [
    "skf = StratifiedKFold(n_splits=folds, shuffle = True, random_state =42)\n",
    "\n",
    "random_search_rf = RandomizedSearchCV(base_rfmodel, param_distributions=params_rf, \n",
    "                                   n_iter=param_comb,scoring='accuracy', n_jobs=-1,\n",
    "                                   cv=skf.split(Xtrain,Ytrain), verbose=3, random_state=42)\n",
    "\n",
    "random_search_rf.fit(Xtrain,Ytrain)\n",
    "# nous faisons de la random_search en cross-validation avec un paramètre de folds déjà défini plus haut. "
   ]
  },
  {
   "cell_type": "code",
   "execution_count": null,
   "id": "b6e6fd93-5bb5-42be-99f4-a2fd07b7c9ef",
   "metadata": {},
   "outputs": [],
   "source": [
    "print(random_search_rf.cv_results_)"
   ]
  },
  {
   "cell_type": "code",
   "execution_count": null,
   "id": "7e526cc0-26b6-4a1c-a3ea-ebdd00c1d117",
   "metadata": {},
   "outputs": [],
   "source": [
    "print(random_search_rf.best_estimator_)\n",
    "#renvoie les modèle qui a obtenu la meilleure précision"
   ]
  },
  {
   "cell_type": "code",
   "execution_count": null,
   "id": "019a128e-85ea-4aa6-bda8-3193d02c88df",
   "metadata": {},
   "outputs": [],
   "source": [
    "print(random_search_rf.best_params_)"
   ]
  },
  {
   "cell_type": "code",
   "execution_count": null,
   "id": "59ed9ff3-acf8-47f1-b181-fc412698bfb6",
   "metadata": {},
   "outputs": [],
   "source": [
    "rf_best = random_search_rf.best_estimator_ # on utilise le meilleur modèle de notre RandomSearch\n",
    "rf_best.fit(Xtrain,Ytrain)\n",
    "\n",
    "Ypredrf_best = rf_best.predict(Xtest)\n",
    "test_acc_rf_best = accuracy_score(Ytest, Ypredrf_best)\n",
    "accu_rf_best = round(test_acc_rf_best,3)*100\n",
    "\n",
    "cmrf_best = confusion_matrix(Ytest, Ypredrf_best,labels=rf_best.classes_)\n",
    "disprf_best = ConfusionMatrixDisplay(cmrf_best,display_labels=rf_best.classes_)\n",
    "disprf_best.plot()\n",
    "plt.title('Confusion matrix with tuned RF after random search  : accuracy = '+str(accu_rf_best)+'%')\n",
    "plt.grid(False)\n",
    "plt.show()"
   ]
  },
  {
   "cell_type": "code",
   "execution_count": null,
   "id": "e27a288a-9ce2-4eef-acae-db7d3287537e",
   "metadata": {},
   "outputs": [],
   "source": [
    "# Affinage avec GridSearch "
   ]
  },
  {
   "cell_type": "markdown",
   "id": "ac85a41e-ae58-44f1-a2c8-6388972d913e",
   "metadata": {},
   "source": [
    "RandomSearch permet de tester aléatoirement des combinaisons pour trouver des hyperparamètres. Ainsi, cela nous a permis d'avoir une vision générale et approximative des hyperparamètres. Maintenant, on peut utiliser un Gridsearch qui teste toutes les combinaisons qu'on lui indique afin d'optimiser et d'affiner les hyperparamètres. "
   ]
  },
  {
   "cell_type": "code",
   "execution_count": null,
   "id": "2129d056-aa86-479f-b404-839382eeb971",
   "metadata": {},
   "outputs": [],
   "source": [
    "params_grid_rf = {\n",
    "    'n_estimators': [150,175,200],\n",
    "    'max_depth': [8,9,10,11],\n",
    "    'min_samples_leaf': [1, 2,3],\n",
    "    'min_samples_split': [1,2,3,4]\n",
    "}\n",
    "#nous créons notre grille d'hyperparamètres affinée pour le GridSearch."
   ]
  },
  {
   "cell_type": "code",
   "execution_count": null,
   "id": "24482557-f54e-456d-a1a4-3289d09440ca",
   "metadata": {},
   "outputs": [],
   "source": [
    "base_rfmodel = RandomForestClassifier()"
   ]
  },
  {
   "cell_type": "code",
   "execution_count": null,
   "id": "cec379d9-98a5-489c-95cb-0af7f4daa1f8",
   "metadata": {},
   "outputs": [],
   "source": [
    "folds = 3\n",
    "\n",
    "# nous faisons de la 3-fold cross validation "
   ]
  },
  {
   "cell_type": "code",
   "execution_count": null,
   "id": "84a63cb9-66ac-4b1b-9fa3-26e77bcf7ddc",
   "metadata": {},
   "outputs": [],
   "source": [
    "skf = StratifiedKFold(n_splits=folds, shuffle = True, random_state =42)\n",
    "\n",
    "grid_search_rf = GridSearchCV(base_rfmodel, param_grid=params_grid_rf, scoring='accuracy', n_jobs=-1,\n",
    "                                   cv=skf.split(Xtrain,Ytrain), verbose=3)\n",
    "\n",
    "grid_search_rf.fit(Xtrain,Ytrain)\n",
    "# nous faisons de la random_search en cross-validation avec un paramètre de folds déjà défini plus haut. "
   ]
  },
  {
   "cell_type": "code",
   "execution_count": null,
   "id": "a1fbed07-1c3e-459a-b90a-74dc482e1c89",
   "metadata": {},
   "outputs": [],
   "source": [
    "#print(grid_search_rf.cv_results_)"
   ]
  },
  {
   "cell_type": "code",
   "execution_count": null,
   "id": "d9afd730-1165-4f12-acdd-7dada0d1227c",
   "metadata": {},
   "outputs": [],
   "source": [
    "print(grid_search_rf.best_estimator_)\n",
    "#renvoie les modèle qui a obtenu la meilleure précision"
   ]
  },
  {
   "cell_type": "code",
   "execution_count": null,
   "id": "485c89dd-a1b8-4da5-bade-ae97050b00d7",
   "metadata": {},
   "outputs": [],
   "source": [
    "print(grid_search_rf.best_params_)"
   ]
  },
  {
   "cell_type": "code",
   "execution_count": null,
   "id": "86d233d4-4315-42c3-bd12-7c57a1978f25",
   "metadata": {},
   "outputs": [],
   "source": [
    "rf_best = grid_search_rf.best_estimator_ # on utilise le meilleur modèle de notre RandomSearch\n",
    "rf_best.fit(Xtrain,Ytrain)\n",
    "\n",
    "Ypredrf_best = rf_best.predict(Xtest)\n",
    "test_acc_rf_best = accuracy_score(Ytest, Ypredrf_best)\n",
    "accu_rf_best = round(test_acc_rf_best,3)*100\n",
    "\n",
    "cmrf_best = confusion_matrix(Ytest, Ypredrf_best,labels=rf_best.classes_)\n",
    "disprf_best = ConfusionMatrixDisplay(cmrf_best,display_labels=rf_best.classes_)\n",
    "disprf_best.plot()\n",
    "plt.title('Confusion matrix with tuned RF after grid search  : accuracy = '+str(accu_rf_best)+'%')\n",
    "plt.grid(False)\n",
    "plt.show()"
   ]
  },
  {
   "cell_type": "markdown",
   "id": "3ebd145a-7f22-4d4f-a703-66457c7b6f5d",
   "metadata": {},
   "source": [
    "Le gridsearch était plutôt long (10 minutes) et le gain négligeable, il est raisonnable de passer à un autre modèle que les random forests"
   ]
  },
  {
   "cell_type": "markdown",
   "id": "ca3faf80-abca-41bc-b003-4cd25112e6ff",
   "metadata": {},
   "source": [
    "### Deuxième modèle : XGBoost"
   ]
  },
  {
   "cell_type": "markdown",
   "id": "8f38f0e0-05c7-4645-ac77-e3e3ac17e868",
   "metadata": {},
   "source": [
    "XGBoost est un algorithme de machine learning appartenant à la classe des alogrithmes utilisant le Gradient Boosting. Cela signifie qu'il ne construit pas une forêt d'arbres de décision indépendants pour prédire mais au contraire qu'il construit chaque nouvel arbre de décision en utilisant les erreurs commises par les précédents. L'apprentissage est donc séquentiel et non plus en parallèle."
   ]
  },
  {
   "cell_type": "markdown",
   "id": "65ec690a-3e2c-44d3-92b4-d86815fa6c07",
   "metadata": {},
   "source": [
    "XGBoost est notamment très utilisé pour les compétitions Kaggle et notamment par les vainqueurs, il domine actuellement les autres algorithmes en termes de performance et de vitesse."
   ]
  },
  {
   "cell_type": "code",
   "execution_count": null,
   "id": "7afcda05-69ac-4e1d-9bab-05e28c1c3143",
   "metadata": {},
   "outputs": [],
   "source": [
    "model_xgb = XGBClassifier(objective='multi:softprob',learning_rate=0.3,max_depth=4,subsample=0.75,n_estimators=150) # nous testons un premier modèle\n",
    "# avec des paramètres pris au hasard"
   ]
  },
  {
   "cell_type": "code",
   "execution_count": null,
   "id": "daee40b5-a75a-4c3a-bca9-a3aa65c12e6c",
   "metadata": {},
   "outputs": [],
   "source": [
    "model_xgb.fit(Xtrain,Ytrain)\n",
    "\n",
    "Ypredxgb = model_xgb.predict(Xtest)\n",
    "test_acc_xgb = accuracy_score(Ytest, Ypredxgb)\n",
    "accu_xgb = round(test_acc_xgb*100,1)"
   ]
  },
  {
   "cell_type": "code",
   "execution_count": null,
   "id": "99902d86-3df8-40af-acff-0e6ed372d262",
   "metadata": {},
   "outputs": [],
   "source": [
    "cmxgb = confusion_matrix(Ytest, Ypredxgb,labels=model_xgb.classes_)\n",
    "dispxgb = ConfusionMatrixDisplay(cmxgb,display_labels=model_xgb.classes_)\n",
    "dispxgb.plot()\n",
    "plt.title('Confusion matrix with XGBOOST accuracy = '+str(accu_xgb)+'%')\n",
    "plt.grid(False)\n",
    "plt.show()"
   ]
  },
  {
   "cell_type": "code",
   "execution_count": null,
   "id": "988fd6d9-0cc3-466e-9b42-d6b1d3f81a20",
   "metadata": {},
   "outputs": [],
   "source": [
    "params_xgb = {\n",
    "        'min_child_weight': [1, 5, 10],\n",
    "        'gamma': [0.5, 1, 1.5, 2, 5],\n",
    "        'subsample': [0.6, 0.8, 1.0],\n",
    "        'max_depth': [3, 4, 5],\n",
    "        'learning_rate' : [0.1,0.3,0.5,0.7],\n",
    "        'n_estimators': [75,100,150,200]\n",
    "        }\n",
    "# nous créons notre grille d'hyperparamètres à tester"
   ]
  },
  {
   "cell_type": "code",
   "execution_count": null,
   "id": "9392f1a0-807f-4339-a5e4-e4890d863189",
   "metadata": {},
   "outputs": [],
   "source": [
    "xgb = XGBClassifier(objective='multi:softprob',silent=True, nthread=1)"
   ]
  },
  {
   "cell_type": "code",
   "execution_count": null,
   "id": "9d96fbf4-0795-4f66-977d-46644a7395a1",
   "metadata": {},
   "outputs": [],
   "source": [
    "skf = StratifiedKFold(n_splits=folds, shuffle = True, random_state =42,)\n",
    "\n",
    "random_search_xgb = RandomizedSearchCV(xgb, param_distributions=params_xgb, \n",
    "                                   n_iter=param_comb,scoring='accuracy',\n",
    "                                   cv=skf.split(Xtrain,Ytrain), verbose=3, random_state=42)\n",
    "\n",
    "random_search_xgb.fit(Xtrain,Ytrain)\n",
    "# nous faisons de la random_search en cross-validation avec un paramètre de folds déjà défini plus haut. "
   ]
  },
  {
   "cell_type": "code",
   "execution_count": null,
   "id": "d6ca5df5-5e98-4697-ad60-794514c500e9",
   "metadata": {},
   "outputs": [],
   "source": [
    "print(random_search_xgb.cv_results_)"
   ]
  },
  {
   "cell_type": "code",
   "execution_count": null,
   "id": "e4fdca46-4769-46e5-ad5e-497d99f421fe",
   "metadata": {},
   "outputs": [],
   "source": [
    "print(random_search_xgb.best_estimator_)"
   ]
  },
  {
   "cell_type": "code",
   "execution_count": null,
   "id": "51562669-53e8-484b-bab0-28b89d3f2884",
   "metadata": {},
   "outputs": [],
   "source": [
    "print(random_search_xgb.best_params_)"
   ]
  },
  {
   "cell_type": "code",
   "execution_count": null,
   "id": "efab21b3-a88a-40f7-9490-32fd72b50212",
   "metadata": {},
   "outputs": [],
   "source": [
    "xgb_best = random_search_xgb.best_estimator_\n",
    "xgb_best.fit(Xtrain,Ytrain)\n",
    "\n",
    "Ypredxgb_best = xgb_best.predict(Xtest)\n",
    "test_acc_xgb_best = accuracy_score(Ytest, Ypredxgb_best)\n",
    "accu_xgb_best = round(test_acc_xgb_best,3)*100\n",
    "\n",
    "cmxgb_best = confusion_matrix(Ytest, Ypredxgb_best,labels=xgb_best.classes_)\n",
    "dispxgb_best = ConfusionMatrixDisplay(cmxgb_best,display_labels=xgb_best.classes_)\n",
    "dispxgb_best.plot()\n",
    "plt.grid(False)\n",
    "plt.title('Confusion matrix with tuned XGBOOST after random search  : accuracy = '+str(accu_xgb_best)+'%')\n",
    "plt.show()"
   ]
  },
  {
   "cell_type": "markdown",
   "id": "df297397-2ddd-41bf-9d28-33413f78082a",
   "metadata": {},
   "source": [
    "On remarque que les classes 0 (indemne) et 1 (tué et bléssé hospitalisé) sont plutôt bien prédites par notre modèle. A l'inverse, la classe 2 (bléssé léger) semble être un peu moins évidente à prédire pour notre modèle."
   ]
  },
  {
   "cell_type": "markdown",
   "id": "ba338ded-2c98-4e0d-aab4-2adc27b992d3",
   "metadata": {},
   "source": [
    "Pour info, 2 bons modèles : gamma=1, learning_rate=0.7, max_depth=5, min_child_weight=10, n_estimators=150, subsample=1.0\n",
    "et gamma=1.5, learning_rate=0.7, max_depth=5, min_child_weight=10, n_estimators=200, subsample=0.8"
   ]
  },
  {
   "cell_type": "code",
   "execution_count": null,
   "id": "93d36306-3b31-4c8e-b499-4c84bdc89f48",
   "metadata": {},
   "outputs": [],
   "source": [
    "# Affinage avec GridSearch "
   ]
  },
  {
   "cell_type": "code",
   "execution_count": null,
   "id": "fd0cdb4a-5c08-49e9-94c6-9ee2c7109e68",
   "metadata": {},
   "outputs": [],
   "source": [
    "params_grid_rf = {\n",
    "    'n_estimators': [150,175,200],\n",
    "    'max_depth': [8,9,10,11],\n",
    "    'min_samples_leaf': [1, 2,3],\n",
    "    'min_samples_split': [1,2,3,4]\n",
    "}\n",
    "#nous créons notre grille d'hyperparamètres affinée pour le GridSearch."
   ]
  },
  {
   "cell_type": "code",
   "execution_count": null,
   "id": "7f5aefde-e6b7-44cf-99ea-5a0740582c2c",
   "metadata": {},
   "outputs": [],
   "source": [
    "base_rfmodel = RandomForestClassifier()\n",
    "\n",
    "folds = 3\n",
    "# nous faisons de la 3-fold cross validation \n",
    "\n",
    "skf = StratifiedKFold(n_splits=folds, shuffle = True, random_state =42)\n",
    "\n",
    "grid_search_rf = GridSearchCV(base_rfmodel, param_grid=params_grid_rf, scoring='accuracy', n_jobs=-1,\n",
    "                                   cv=skf.split(Xtrain,Ytrain), verbose=3)\n",
    "\n",
    "grid_search_rf.fit(Xtrain,Ytrain)\n",
    "# nous faisons de la random_search en cross-validation avec un paramètre de folds déjà défini plus haut. \n",
    "\n",
    "print(grid_search_rf.cv_results_)\n",
    "print(grid_search_rf.best_estimator_)\n",
    "#renvoie les modèle qui a obtenu la meilleure précision\n",
    "print(grid_search_rf.best_params_)\n",
    "\n",
    "rf_best = grid_search_rf.best_estimator_ # on utilise le meilleur modèle de notre RandomSearch\n",
    "rf_best.fit(Xtrain,Ytrain)\n",
    "\n",
    "Ypredrf_best = rf_best.predict(Xtest)\n",
    "test_acc_rf_best = accuracy_score(Ytest, Ypredrf_best)\n",
    "accu_rf_best = round(test_acc_rf_best,3)*100\n",
    "\n",
    "cmrf_best = confusion_matrix(Ytest, Ypredrf_best,labels=rf_best.classes_)\n",
    "disprf_best = ConfusionMatrixDisplay(cmrf_best,display_labels=rf_best.classes_)\n",
    "disprf_best.plot()\n",
    "plt.title('Confusion matrix with tuned RF after grid search  : accuracy = '+str(accu_rf_best)+'%')\n",
    "plt.grid(False)\n",
    "plt.show()"
   ]
  },
  {
   "cell_type": "code",
   "execution_count": null,
   "id": "a5d0911a-fb11-442a-b6b6-f62f7ade14ab",
   "metadata": {},
   "outputs": [],
   "source": [
    "base_rfmodel = RandomForestClassifier()"
   ]
  },
  {
   "cell_type": "code",
   "execution_count": null,
   "id": "ad2ff3fe-fb42-4470-9b9b-bf4c36c9ed9a",
   "metadata": {},
   "outputs": [],
   "source": [
    "folds = 3\n",
    "# nous faisons de la 3-fold cross validation "
   ]
  },
  {
   "cell_type": "code",
   "execution_count": null,
   "id": "567304fe-a2e3-4a43-b6b6-b019b0bea1c3",
   "metadata": {},
   "outputs": [],
   "source": [
    "skf = StratifiedKFold(n_splits=folds, shuffle = True, random_state =42)\n",
    "\n",
    "grid_search_rf = GridSearchCV(base_rfmodel, param_grid=params_grid_rf, scoring='accuracy', n_jobs=-1,\n",
    "                                   cv=skf.split(Xtrain,Ytrain), verbose=3)\n",
    "\n",
    "grid_search_rf.fit(Xtrain,Ytrain)\n",
    "# nous faisons de la random_search en cross-validation avec un paramètre de folds déjà défini plus haut. "
   ]
  },
  {
   "cell_type": "code",
   "execution_count": null,
   "id": "f6d97dd0-3030-4fa2-a8be-b6edc1fddc6f",
   "metadata": {},
   "outputs": [],
   "source": [
    "print(grid_search_rf.cv_results_)\n",
    "\n",
    "print(grid_search_rf.best_estimator_)\n",
    "\n",
    "#renvoie les modèle qui a obtenu la meilleure précision\n",
    "print(grid_search_rf.best_params_)"
   ]
  },
  {
   "cell_type": "code",
   "execution_count": null,
   "id": "7124fee4-21e0-4c81-af18-b503868fd7f6",
   "metadata": {},
   "outputs": [],
   "source": [
    "rf_best = grid_search_rf.best_estimator_ # on utilise le meilleur modèle de notre RandomSearch\n",
    "rf_best.fit(Xtrain,Ytrain)\n",
    "\n",
    "Ypredrf_best = rf_best.predict(Xtest)\n",
    "test_acc_rf_best = accuracy_score(Ytest, Ypredrf_best)\n",
    "accu_rf_best = round(test_acc_rf_best,3)*100\n",
    "\n",
    "cmrf_best = confusion_matrix(Ytest, Ypredrf_best,labels=rf_best.classes_)\n",
    "disprf_best = ConfusionMatrixDisplay(cmrf_best,display_labels=rf_best.classes_)\n",
    "disprf_best.plot()\n",
    "plt.title('Confusion matrix with tuned RF after grid search  : accuracy = '+str(accu_rf_best)+'%')\n",
    "plt.grid(False)\n",
    "plt.show()"
   ]
  },
  {
   "cell_type": "markdown",
   "id": "2246a2fa-1b22-4f0f-9226-58f82838d27d",
   "metadata": {},
   "source": [
    "### Troisième modèle : SVM"
   ]
  },
  {
   "cell_type": "markdown",
   "id": "6f4870da-6993-4f92-8f87-ed6d36479814",
   "metadata": {},
   "source": [
    "L’une des méthodes de Machine Learning les plus utilisées en classification est les SVM (Support Vector Machines). Il s’agit de trouver, dans un système de projection adéquat (noyau ou kernel), les paramètres de l’hyperplan (en fait d’un hyperplan à marges maximales) séparant les classes de données:"
   ]
  },
  {
   "cell_type": "code",
   "execution_count": null,
   "id": "2301541e-fb95-4c96-8b6f-1ca96cac39a6",
   "metadata": {},
   "outputs": [],
   "source": [
    "model_svm = "
   ]
  },
  {
   "cell_type": "code",
   "execution_count": null,
   "id": "ad3cc677-7111-4c83-98da-b12c34c0b88a",
   "metadata": {},
   "outputs": [],
   "source": []
  },
  {
   "cell_type": "code",
   "execution_count": null,
   "id": "587b3920-9f89-4447-ab3d-94f5f66e999e",
   "metadata": {},
   "outputs": [],
   "source": []
  },
  {
   "cell_type": "code",
   "execution_count": null,
   "id": "873363dc-e4f5-4853-ab15-0ed53c1c91f4",
   "metadata": {},
   "outputs": [],
   "source": []
  },
  {
   "cell_type": "code",
   "execution_count": null,
   "id": "bda25d59-8b91-49d8-bff8-625969a9d25a",
   "metadata": {},
   "outputs": [],
   "source": []
  },
  {
   "cell_type": "markdown",
   "id": "290b5886-5b08-4640-9a54-ad07a1240f13",
   "metadata": {},
   "source": [
    "## FEATURE IMPORTANCE & SHAP"
   ]
  },
  {
   "cell_type": "markdown",
   "id": "5abd8113-1545-46d3-b383-da6ce74857dd",
   "metadata": {},
   "source": [
    "On veut maintenant savoir sur quelles informations se base notre modèle pour effectuer ses prédéctions. En d'autres termes, quelles sont les variables les plus influentes pour prédire la gravité d'un accident de voiture ?"
   ]
  },
  {
   "cell_type": "markdown",
   "id": "f842ed9a-684f-4c6b-bf5e-6abea87308b9",
   "metadata": {},
   "source": [
    "Pour cela, nous allons dans un premier temps utiliser la méthode de feature importance de scikit-learn puis la bibliothèque SHAP."
   ]
  },
  {
   "cell_type": "code",
   "execution_count": null,
   "id": "bf229930-a162-4ab7-9dec-93a8646ff429",
   "metadata": {},
   "outputs": [],
   "source": [
    "xgb_best.feature_importances_"
   ]
  },
  {
   "cell_type": "code",
   "execution_count": null,
   "id": "b356ec6b-d7f4-49ee-93a3-fb8a283b66c1",
   "metadata": {},
   "outputs": [],
   "source": [
    "plt.barh(Xtrain.columns, xgb_best.feature_importances_)"
   ]
  },
  {
   "cell_type": "code",
   "execution_count": null,
   "id": "c7058555-b080-484e-b300-cab93f61bebf",
   "metadata": {},
   "outputs": [],
   "source": [
    "xgboost.plot_importance(xgb_best,max_num_features=15)\n",
    "plt.title(\"Feature importance\")\n",
    "plt.show()"
   ]
  },
  {
   "cell_type": "code",
   "execution_count": null,
   "id": "1a886ed5-e15b-46af-ba3f-f089cc062d40",
   "metadata": {},
   "outputs": [],
   "source": [
    "!pip install shap"
   ]
  },
  {
   "cell_type": "code",
   "execution_count": null,
   "id": "0d55b7ce-5a35-4e68-9f64-e846e3e37573",
   "metadata": {},
   "outputs": [],
   "source": [
    "import shap"
   ]
  },
  {
   "cell_type": "code",
   "execution_count": null,
   "id": "84f6892d-81e0-4736-87c1-3c57d2597e8e",
   "metadata": {},
   "outputs": [],
   "source": [
    "explainer = shap.Explainer(xgb_best, Xtrain)\n",
    "shap_values = explainer(Xtrain)"
   ]
  },
  {
   "cell_type": "code",
   "execution_count": null,
   "id": "ca51fdb4-d3e3-42c0-a38e-7d8d10fdfb53",
   "metadata": {},
   "outputs": [],
   "source": [
    "shap_values"
   ]
  },
  {
   "cell_type": "code",
   "execution_count": null,
   "id": "2beadf6e-670f-49ef-b583-1dafd9c91195",
   "metadata": {},
   "outputs": [],
   "source": [
    "shap.summary_plot(shap_values.data, Xtrain, plot_type=\"bar\")"
   ]
  }
 ],
 "metadata": {
  "kernelspec": {
   "display_name": "Python 3 (ipykernel)",
   "language": "python",
   "name": "python3"
  },
  "language_info": {
   "codemirror_mode": {
    "name": "ipython",
    "version": 3
   },
   "file_extension": ".py",
   "mimetype": "text/x-python",
   "name": "python",
   "nbconvert_exporter": "python",
   "pygments_lexer": "ipython3",
   "version": "3.9.7"
  }
 },
 "nbformat": 4,
 "nbformat_minor": 5
}
